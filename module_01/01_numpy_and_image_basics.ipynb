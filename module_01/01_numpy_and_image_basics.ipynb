{
 "cells": [
  {
   "cell_type": "code",
   "execution_count": null,
   "id": "994f5afd-7adc-49a7-9bf3-b7c737212def",
   "metadata": {},
   "outputs": [],
   "source": [
    "%matplotlib inline\n",
    "import cv2\n",
    "import matplotlib.pyplot as plt\n",
    "import numpy as np"
   ]
  },
  {
   "cell_type": "markdown",
   "id": "6d94a3d1-ee86-41fd-bb32-a91bf827583b",
   "metadata": {},
   "source": [
    "# Numpy and Image Basics"
   ]
  },
  {
   "cell_type": "markdown",
   "id": "41dab0c0-2673-432f-89d1-85f674cf698d",
   "metadata": {
    "tags": []
   },
   "source": [
    "## Numpy Arrays"
   ]
  },
  {
   "cell_type": "markdown",
   "id": "64b94438-b6fa-44ac-b2a2-6a3343d53ec7",
   "metadata": {},
   "source": [
    "(1 point) Create a 2D array of zeros named `x`. It should have 3 rows and 5 columns, and have data type `uint8`. Print the array."
   ]
  },
  {
   "cell_type": "code",
   "execution_count": null,
   "id": "fb629ccc-bc80-4b7e-a1ba-302e2dc76985",
   "metadata": {},
   "outputs": [],
   "source": []
  },
  {
   "cell_type": "markdown",
   "id": "41fc7fc6-da9e-413b-82ca-dc963ab3006c",
   "metadata": {},
   "source": [
    "(1 point) Print the shape of the array.  "
   ]
  },
  {
   "cell_type": "code",
   "execution_count": null,
   "id": "bb78bb69-d76e-48a9-9fcb-9c536fb9f9e9",
   "metadata": {},
   "outputs": [],
   "source": []
  },
  {
   "cell_type": "markdown",
   "id": "5d296aea-0dd4-4944-8e40-aca0a2b1daa1",
   "metadata": {},
   "source": [
    "(1 point) Print the data type of the array."
   ]
  },
  {
   "cell_type": "code",
   "execution_count": null,
   "id": "4386e6c0-28a9-43c8-b5c0-0d44588edfea",
   "metadata": {},
   "outputs": [],
   "source": []
  },
  {
   "cell_type": "markdown",
   "id": "a25cbb47-5acc-4da1-b453-296a54966e99",
   "metadata": {},
   "source": [
    "(1 point) Print the transpose of the array by adding two characters to \"`print(x)`\"."
   ]
  },
  {
   "cell_type": "code",
   "execution_count": null,
   "id": "04316016-3309-489b-8d8b-29b5c0d87129",
   "metadata": {},
   "outputs": [],
   "source": []
  },
  {
   "cell_type": "markdown",
   "id": "a061c4f9-a2f3-42c9-a79b-4611cc2943ce",
   "metadata": {},
   "source": [
    "(1 point) Create a 1D array named `y` containing integers `0, 1, 2, ..., 11` using `np.arange()`. Print the array and its data type."
   ]
  },
  {
   "cell_type": "code",
   "execution_count": null,
   "id": "0a54e75b-e0a6-4743-a493-b818ff936be5",
   "metadata": {},
   "outputs": [],
   "source": []
  },
  {
   "cell_type": "markdown",
   "id": "2d2806b8-b42e-4f78-9858-24b4b685c26a",
   "metadata": {},
   "source": [
    "(1 point) Reshape `y` into a 2D array of shape `(3, 4)` and assign the result to `y`. Print the result."
   ]
  },
  {
   "cell_type": "code",
   "execution_count": null,
   "id": "525a2692-d24f-4445-97b5-74da5f93f790",
   "metadata": {},
   "outputs": [],
   "source": []
  },
  {
   "cell_type": "markdown",
   "id": "9ab2a5ed-e14e-4fad-bbdc-7818341603ba",
   "metadata": {},
   "source": [
    "(2 points) Set all elements great than or equal to 9 in `y` to 0. You should be able to do this in one line without using a `for` loop. Print `y` after the operation.\n",
    "\n",
    "Hint: Refer to Numpy's [docs on indexing](https://numpy.org/devdocs/user/basics.indexing.html#advanced-indexing)."
   ]
  },
  {
   "cell_type": "code",
   "execution_count": null,
   "id": "6cfeed5a-1579-4faf-abba-4ca0527b0f9d",
   "metadata": {},
   "outputs": [],
   "source": []
  },
  {
   "cell_type": "markdown",
   "id": "3a9af90f-58c5-4829-993f-d492e06bcec8",
   "metadata": {},
   "source": [
    "(1 point) Print the result of element-wise multiplication between `y` and itself. Numpy has an operator for element-wise multiplication. Your answer should use this operator instead of explicitly calling `np.multiply()` or manipulating the elements yourself."
   ]
  },
  {
   "cell_type": "code",
   "execution_count": null,
   "id": "d3b7fa47-ee8e-4073-9452-44effc4b5fc3",
   "metadata": {},
   "outputs": [],
   "source": []
  },
  {
   "cell_type": "markdown",
   "id": "f214fb67-f170-48eb-b16b-f440a7372e87",
   "metadata": {},
   "source": [
    "(2 points) Print the result of matrix multiplication between `y` and its transpose. Numpy has an operator for matrix multiplication. Your answer should use this operator instead of explicitly calling `np.matmul()` or `np.dot()`, or manipulating the elements yourself."
   ]
  },
  {
   "cell_type": "code",
   "execution_count": null,
   "id": "d161b896-c97a-414f-a5af-0671fdfe957b",
   "metadata": {},
   "outputs": [],
   "source": []
  },
  {
   "cell_type": "markdown",
   "id": "941ed7be-bb7d-4557-b886-7e66828eba1f",
   "metadata": {},
   "source": [
    "## Image Basics"
   ]
  },
  {
   "cell_type": "markdown",
   "id": "637ec3dd-0679-4970-bad2-8954cc031124",
   "metadata": {},
   "source": [
    "(1 point) Using Matplotlib's `imread()`, `imshow()` and `show()` functions, load `data/cat.jpg` into `img` and display it."
   ]
  },
  {
   "cell_type": "code",
   "execution_count": null,
   "id": "b40e532b-c947-4285-9bec-649f4c4c6f01",
   "metadata": {},
   "outputs": [],
   "source": []
  },
  {
   "cell_type": "markdown",
   "id": "79fc93cf-dcd2-4dd8-bc1d-bf6080d51433",
   "metadata": {},
   "source": [
    "(1 point) Crop the image and keep only an area around the cat's head. The resulting image patch should be around 150 pixels by 150 pixels."
   ]
  },
  {
   "cell_type": "code",
   "execution_count": null,
   "id": "f8d23410-19b9-4102-ad9f-7b86f0a605ab",
   "metadata": {},
   "outputs": [],
   "source": []
  },
  {
   "cell_type": "markdown",
   "id": "62b3d1f3-31b8-445b-b6f6-f57ef66d4e74",
   "metadata": {},
   "source": [
    "(1 point) OpenCV also has its own image loading function `cv2.imread()`. Load the same image into an array named `img_opencv` with OpenCV using the default parameters and display it directly using Matplotlib."
   ]
  },
  {
   "cell_type": "code",
   "execution_count": null,
   "id": "cddb74d4-1418-42ef-954c-f3c6c4db5f49",
   "metadata": {},
   "outputs": [],
   "source": []
  },
  {
   "cell_type": "markdown",
   "id": "47764735-9ce0-4070-a0d1-da8c63c08670",
   "metadata": {},
   "source": [
    "(2 points) Does anything look wrong? Explain what is going on in the box below."
   ]
  },
  {
   "cell_type": "code",
   "execution_count": null,
   "id": "be4c18ae-79d8-49dc-a8db-c40e4e2a42f2",
   "metadata": {},
   "outputs": [],
   "source": [
    "# Type your answer below:\n",
    "# "
   ]
  },
  {
   "cell_type": "markdown",
   "id": "f9cde168-333d-4a90-9863-3b99c476dbdf",
   "metadata": {},
   "source": [
    "(2 points) Fix this by **indexing** the `img_opencv` array. Assign the fixed version to `img_fixed` and display it using Matplotlib."
   ]
  },
  {
   "cell_type": "code",
   "execution_count": null,
   "id": "7aac0674-d4da-40ff-839d-043d6db89db7",
   "metadata": {},
   "outputs": [],
   "source": []
  },
  {
   "cell_type": "markdown",
   "id": "8508f1c7-716a-47cb-abea-b15d324a4111",
   "metadata": {},
   "source": [
    "(2 points) In fact, OpenCV has a [dedicated function](https://docs.opencv.org/4.6.0/d8/d01/group__imgproc__color__conversions.html#ga397ae87e1288a81d2363b61574eb8cab) for this conversion. Repeat what you did in the last cell, but with `cv2.cvtColor()` this time."
   ]
  },
  {
   "cell_type": "code",
   "execution_count": null,
   "id": "23f6fcf1-cead-4f16-8bc0-08abaa04f9af",
   "metadata": {},
   "outputs": [],
   "source": []
  }
 ],
 "metadata": {
  "kernelspec": {
   "display_name": "Python 3 (ipykernel)",
   "language": "python",
   "name": "python3"
  },
  "language_info": {
   "codemirror_mode": {
    "name": "ipython",
    "version": 3
   },
   "file_extension": ".py",
   "mimetype": "text/x-python",
   "name": "python",
   "nbconvert_exporter": "python",
   "pygments_lexer": "ipython3",
   "version": "3.8.13"
  }
 },
 "nbformat": 4,
 "nbformat_minor": 5
}
